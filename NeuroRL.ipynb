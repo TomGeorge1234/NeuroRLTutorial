{
 "cells": [
  {
   "cell_type": "markdown",
   "metadata": {},
   "source": [
    "# **Neuro RLs** [![Open In Colab](https://colab.research.google.com/assets/colab-badge.svg)](https://github.com/TomGeorge1234/NeuroRLTutorial/blob/main/NeuroRL.ipynb)\n",
    "### **University of Amsterdam Neuro-AI Summer School ,2024**\n",
    "#### made by: **Tom George (UCL) and Jesse Geerts (Imperial)**\n",
    "\n",
    "In this tutorial we'll study and build reinforcement learning models inspired by the brain. \n",
    "\n",
    "TODO: Insert fun animation of the model we'll end up building "
   ]
  },
  {
   "cell_type": "markdown",
   "metadata": {},
   "source": [
    "## **Learning Objectives**"
   ]
  },
  {
   "cell_type": "markdown",
   "metadata": {},
   "source": [
    "## **Contents** \n",
    "0. [Import dependencies and data](#dependencies)\n",
    "1. [Rescorla-Wagner Model](#rescorla)\n",
    "2. [Temporal Difference Learning](#td)\n",
    "3. [Q-Learning](#q)\n",
    "    1. [Navigating in a grid world](#grid)\n",
    "4. [Deep Q-Learning](#dqn)\n",
    "    1. [Neuroscience inspired basis functions](#basis)"
   ]
  },
  {
   "cell_type": "markdown",
   "metadata": {},
   "source": [
    "## **0. Import dependencies and data** <a name=\"dependencies\"></a>\n",
    "Run the following code: It'll install some dependencies, download some files and import some functions. You can mostly ignore it. "
   ]
  },
  {
   "cell_type": "code",
   "execution_count": 4,
   "metadata": {},
   "outputs": [],
   "source": [
    "import numpy as np \n",
    "import matplotlib.pyplot as plt \n",
    "import ratinabox\n",
    "ratinabox.stylize_plots() # sets some RC params to make plots look better\n",
    "# rc params to remove top and right spines from plot\n",
    "from matplotlib import rcParams\n",
    "plt.rcParams['axes.spines.top'] = False\n",
    "plt.rcParams['axes.spines.right'] = False\n",
    "plt.rcParams['axes.xmargin'] = 0.05\n",
    "plt.rcParams['axes.ymargin'] = 0.05\n",
    "# set bounds on the x and y to match the avaiable data\n",
    "\n",
    "# import dataclass\n",
    "from dataclasses import dataclass\n"
   ]
  },
  {
   "cell_type": "markdown",
   "metadata": {},
   "source": [
    "## 1. Rescorla-Wagner\n",
    "\n",
    "Classical conditioning is where a neutral stimulus -- also called the _unconditioned stimulus, US_ -- is paired with a response-producing stimulus -- _the conditioned stimulus, CS_. After the association is learned, the neutral stimulus *alone* can produce the response.\n",
    "\n",
    "The most famous example is Pavlov's dogs: Pavlov rang a bell before feeding his dogs which would cause them to salivate. After a while, the dogs would start salivating when they heard the bell, even if no food was presented.\n",
    "\n",
    "In 1972 Rescorla and Wagner proposed a simple model to explain this learning process. The model is based on the idea that the strength of the association between the CS and US is proportional to the discrepancy between the expected and actual US.\n",
    "\n",
    "### **1.1 Model**\n",
    "Mathematically, the model is defined as follows:\n",
    "\n",
    "$$\\delta V_i = \\alpha \\cdot \\beta_i \\cdot \\delta, $$\n",
    "\n",
    "$$\\delta = R - \\sum_i{V_i}$$\n",
    "\n",
    "I.e. the increment in the value of the $i^{th}$ stimulus, $\\delta V_{i}$, is proportional to the discrepancy between the reward (response) that was recieved, $R$ and the value of the stimulus, $V_i$. The proportionality constant $\\alpha$ is the learning rate.\n",
    "\n",
    "**Exercise 1.1** \n",
    "1. Consider a simple example where there is only one stimulus with zero initial value. A constant reward, $R$ is given each trial. Show the value of the stimulus after the first trial is given by $V(1) = \\alpha \\cdot \\beta_1 \\cdot R$.\n",
    "2. Show the value of the stimulus should _exponentially_ decay towards the reward with a time constant $\\tau = \\alpha \\cdot \\beta_1$. (_Hint: consider using the change of of variables $U(t) = R - V(t)$._)\n",
    "\n",
    "\n",
    "### **1.2 Model implementation**"
   ]
  },
  {
   "cell_type": "code",
   "execution_count": 9,
   "metadata": {},
   "outputs": [],
   "source": [
    "class RescorlaWagner:\n",
    "    def __init__(self,\n",
    "                 n_stimuli: int,     # number of stimuli\n",
    "                 alpha: float = 0.1, # learning rate\n",
    "                 ):\n",
    "        self.n_stimuli = n_stimuli\n",
    "        self.n_trials = 1\n",
    "        self.alpha = alpha\n",
    "        self.values = np.zeros(n_stimuli)\n",
    "        self.values_history = np.array([self.values.copy()])\n",
    "\n",
    "    def learn(self, \n",
    "              stimulus, \n",
    "              reward,\n",
    "              saliency = 1.0):\n",
    "        prediction = self.values[stimulus]\n",
    "        error = reward - prediction\n",
    "        self.values[stimulus] += self.alpha * error\n",
    "        # Write the current values to the history\n",
    "        self.values_history = np.vstack([self.values_history, self.values.copy()]) \n",
    "        self.n_trials += 1\n",
    "\n",
    "    def plot(self):\n",
    "        fig, ax = plt.subplots(1,1, figsize=(3,3))\n",
    "        for i in range(self.n_stimuli):\n",
    "            print(np.arange(self.n_trials).shape, self.values_history[:,i].shape)\n",
    "            ax.scatter(np.arange(self.n_trials), self.values_history[:,i], label=f'Stimulus {i+1}')\n",
    "        ax.set_xlabel('Trial')\n",
    "        ax.set_ylabel('Value')\n",
    "        ax.legend(frameon=False)\n",
    "\n",
    "        return ax "
   ]
  },
  {
   "cell_type": "code",
   "execution_count": 10,
   "metadata": {},
   "outputs": [
    {
     "name": "stdout",
     "output_type": "stream",
     "text": [
      "(51,) (51,)\n",
      "(51,) (51,)\n"
     ]
    },
    {
     "data": {
      "text/plain": [
       "<Axes: xlabel='Trial', ylabel='Value'>"
      ]
     },
     "execution_count": 10,
     "metadata": {},
     "output_type": "execute_result"
    },
    {
     "data": {
      "image/png": "[encoded data removed]",
      "text/plain": [
       "<Figure size 600x600 with 1 Axes>"
      ]
     },
     "metadata": {},
     "output_type": "display_data"
    }
   ],
   "source": [
    "RW = RescorlaWagner(n_stimuli=2, alpha=0.1)\n",
    "\n",
    "for trial in range(50):\n",
    "    RW.learn(0, 1)\n",
    "RW.plot()\n",
    "    "
   ]
  },
  {
   "cell_type": "markdown",
   "metadata": {},
   "source": [
    "We just showed the analytic solution to this was \n"
   ]
  },
  {
   "cell_type": "code",
   "execution_count": null,
   "metadata": {},
   "outputs": [],
   "source": []
  }
 ],
 "metadata": {
  "kernelspec": {
   "display_name": "neurorl",
   "language": "python",
   "name": "python3"
  },
  "language_info": {
   "codemirror_mode": {
    "name": "ipython",
    "version": 3
   },
   "file_extension": ".py",
   "mimetype": "text/x-python",
   "name": "python",
   "nbconvert_exporter": "python",
   "pygments_lexer": "ipython3",
   "version": "3.12.3"
  }
 },
 "nbformat": 4,
 "nbformat_minor": 2
}
