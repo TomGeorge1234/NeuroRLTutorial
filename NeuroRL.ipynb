{
 "cells": [
  {
   "cell_type": "markdown",
   "metadata": {},
   "source": [
    "# **Neuro RLs** [![Open In Colab](https://colab.research.google.com/assets/colab-badge.svg)](https://colab.research.google.com/github/TomGeorge1234/NeuroRLTutorial/blob/main/NeuroRL.ipynb)\n",
    "### **University of Amsterdam Neuro-AI Summer School ,2024**\n",
    "#### made by: **Tom George (UCL) and Jesse Geerts (Imperial)**\n",
    "\n",
    "In this tutorial we'll study and build reinforcement learning models inspired by the brain."
   ]
  },
  {
   "cell_type": "markdown",
   "metadata": {},
   "source": [
    "## **Contents** \n",
    "0. [Import dependencies and data](#dependencies)\n",
    "1. [Rescorla-Wagner Model](#rescorla)\n",
    "2. [Temporal Difference Learning](#td)\n",
    "3. [Policy learning](#q)\n",
    "    1. [Q-Values](#q-values)\n",
    "    1. [Navigating in a grid world](#grid)\n",
    "4. [Deep Q-Learning](#dqn)\n",
    "    1. [Neuroscience inspired basis functions](#basis)"
   ]
  },
  {
   "cell_type": "markdown",
   "metadata": {},
   "source": [
    "---\n",
    "## **0. Import dependencies and data** <a name=\"dependencies\"></a>\n",
    "Run the following code: It'll install some dependencies, download some files and import some functions. You can mostly ignore it. "
   ]
  },
  {
   "cell_type": "code",
   "execution_count": null,
   "metadata": {},
   "outputs": [],
   "source": [
    "#@title Click to see code {display-mode: \"form\" }\n",
    "!pip install wget ratinabox \n",
    "\n",
    "import numpy as np \n",
    "import matplotlib.pyplot as plt \n",
    "from tqdm import tqdm \n",
    "import os\n",
    "import wget \n",
    "from IPython.display import HTML\n",
    "#if running on colab we need to download the data and utils files\n",
    "if os.path.exists(\"NeuroRL_utils.py\"):\n",
    "    print(\"utils located\")\n",
    "    pass\n",
    "else: \n",
    "    wget.download(\"https://github.com/TomGeorge1234/NeuroRLTutorial/raw/main/NeuroRL_utils.py\")\n",
    "    print(\"...utils downloaded!\")\n",
    "\n",
    "from NeuroRL_utils import *\n",
    "%load_ext autoreload\n",
    "%autoreload 2"
   ]
  },
  {
   "cell_type": "markdown",
   "metadata": {},
   "source": [
    "---\n",
    "## **1. Rescorla-Wagner** <a name=\"rescorla\"></a>\n",
    "\n",
    "Classical conditioning is where a neutral stimulus (the unconditioned stimulus) is paired with a response-producing stimulus (the conditioned stimulus). After the association is learned, the neutral stimulus *alone* can produce the response.\n",
    " \n",
    "The most famous example is Pavlov's dogs: Pavlov rang a bell before feeding his dogs which would cause them to salivate. After a while, the dogs would start salivating when they heard the bell, even if no food was presented.\n",
    "\n",
    "In 1972 Rescorla and Wagner proposed a simple model to explain this learning process. The model is based on the idea that the strength of the association between the CS and US is proportional to the discrepancy between the expected and actual US.\n",
    "\n",
    "### **1.1. Model (maths)**\n",
    "Following on from the Pavlov's dogs example, suppose the bell 🔔 is the conditioned stimulus, $S$, and the food 🦴 is the unconditioned stimulus with a response (reward) of strength $R$. The bell is paired with the food allowing an association to be learned. We notate this as follows: \n",
    "$$ S \\rightarrow R $$\n",
    "\n",
    "Under the Rescorla-Wagner model, the goal is to learn the _value_ of the unconditioned stimulus:\n",
    "\n",
    "$$ V(S) = \\mathbb{E}[R] $$ \n",
    "\n",
    "(Note: this slightly excessive notation now will come in useful later). We can \"learn\" this association by updating $\\hat{V}(S)$ (our current _estimate_ of the value of the stimulus) based on the following trivial learning rule: \n",
    "\n",
    "$$ \\hat{V} \\leftarrow \\hat{V} + \\alpha \\cdot \\underbrace{(R - \\hat{V})}_{\\delta = \\textrm{``error\"}}$$\n",
    "\n",
    "This is Rescorla-Wagner. I.e. the increment in the value of the stimulus is proportional to the discrepancy between the reward (the unconditioned response) that was recieved, $R$, and the reward that was predicted from the stimulus, $\\hat{V}$. The proportionality constant $\\alpha$ is the learning rate.\n",
    "\n",
    "$\\delta$ is the _prediction error_ and is the key concept in reinforcement learning. It is the discrepancy between what was expected and what was recieved. \n",
    "- Positive $\\delta$ means the reward was better than expected, so the value of the stimulus should be increased.\n",
    "- Negative $\\delta$ means the reward was worse than expected, so the value of the stimulus should be decreased.\n",
    "\n",
    "> 📝 **Exercise 1.1** \n",
    "> 1. Consider a simple example where there is only one stimulus with zero initial value. A constant reward, $R$ is given each trial. Show the value of the stimulus after the first trial is given by $V(1) = \\alpha  \\cdot R$.\n",
    "> 2. Show that $\\hat{V}(t) = R \\cdot (1 - e^{-\\alpha\\cdot t})$  (_Hint: consider using the change of of variables $\\delta(t) = R - \\hat{V}(t)$._)"
   ]
  },
  {
   "cell_type": "markdown",
   "metadata": {},
   "source": [
    "### **1.2 Model implementation (python)**\n",
    "\n",
    "Below we provide some basic code implementing a Rescorla Wagner model. \n",
    "\n",
    "Suppose we initialse a Rescorla-Wagner model with a learning rate of 0.1 and an initial value estimate of 0 as \n",
    "\n",
    "```python\n",
    "rescorlawagner = RescorlaWagner(0.1, 0)\n",
    "```\n",
    "\n",
    "Some initialsation logic and plotting functions are hidden away in the `BaseRescorlaWagner` class in `NeuroRL_utils.py`. What's important is the following: \n",
    "\n",
    "**Attributes**\n",
    "- `rescorlawagner.alpha`: is the learning rate, $\\alpha$\n",
    "- `rescorlawagner.V`: the current value estimate of the stimulus, $\\hat{V}(t)$\n",
    "- `rescorlawagner.V_history`: a list of the value of the stimulus at each trial, [$\\hat{V}(0)$, $\\hat{V}(1)$, ...]\n",
    "- `rescorlawagner.R_history`: a list of the reward recieved at each trial, [0, $R(1)$, $R(2)$, ...] (the reward at trial 0 is always set to zero)\n",
    "\n",
    "**Methods**\n",
    "- `rescorlawagner.learn(R)`: updates the value of the stimulus based on the reward recieved <span style=\"color:red\"> _[TO DO: NOT YET DEFINED]_ </span>\n",
    "- `rescorlawagner.plot()`: plots the value of the stimulus over time\n",
    "\n",
    "\n",
    "> 📝 **Exercise 1.2:** \n",
    "> \n",
    "> Complete the `def learn(self, R):` function to implement the Rescorla-Wagner learning rule. \n"
   ]
  },
  {
   "cell_type": "code",
   "execution_count": null,
   "metadata": {},
   "outputs": [],
   "source": [
    "class RescorlaWagner(BaseRescorlaWagner):\n",
    "    def __init__(self, \n",
    "                 alpha=0.1, \n",
    "                 initial_V=0): \n",
    "        self.V = initial_V\n",
    "        super().__init__(n_stimuli=1, alpha=alpha)\n",
    "\n",
    "    def learn(self, R):\n",
    "        raise NotImplementedError(\"You need to implement this method\")\n",
    "        # error = ???\n",
    "        # self.V += ???\n",
    "        # self.R_history.append(R) # include these lines to store the reward and value history\n",
    "        # self.V_history.append(V) "
   ]
  },
  {
   "cell_type": "code",
   "execution_count": null,
   "metadata": {},
   "outputs": [],
   "source": [
    "#@title Click to see solution {display-mode: \"form\" }\n",
    "def learn(self, R):\n",
    "    error = R - self.V\n",
    "    self.V += self.alpha * error\n",
    "    self.R_history.append(R)\n",
    "    self.V_history.append(self.V) \n",
    "RescorlaWagner.learn = learn # set the learn method to the function we just defined."
   ]
  },
  {
   "cell_type": "markdown",
   "metadata": {},
   "source": [
    "Now lets run an experiment where a reward of 1 is given each trial. We'll plot the value of the stimulus over time using the pre-written `RescorlaWagner.plot()` function."
   ]
  },
  {
   "cell_type": "code",
   "execution_count": null,
   "metadata": {},
   "outputs": [],
   "source": [
    "# Set your learning rate and reward\n",
    "alpha = 0.1\n",
    "R = 1\n",
    "\n",
    "# Create the model\n",
    "rescorlawagner = RescorlaWagner(alpha=alpha)\n",
    "\n",
    "# Run the model\n",
    "for trial in range(100):\n",
    "    rescorlawagner.learn(R=R)"
   ]
  },
  {
   "cell_type": "markdown",
   "metadata": {},
   "source": [
    "> 📝 **Exercise 1.3**\n",
    ">\n",
    "> Print the past value of the stimulus at each trial and check it approaches 1 (the reward value)."
   ]
  },
  {
   "cell_type": "code",
   "execution_count": null,
   "metadata": {},
   "outputs": [],
   "source": [
    "# Print the value history"
   ]
  },
  {
   "cell_type": "code",
   "execution_count": null,
   "metadata": {},
   "outputs": [],
   "source": [
    "#@title Click to see solution {display-mode: \"form\" }\n",
    "print(rescorlawagner.V_history)"
   ]
  },
  {
   "cell_type": "markdown",
   "metadata": {},
   "source": [
    "> 📝 **Exercise 1.4**\n",
    ">\n",
    "> 1. Plot the value history using the `ax = rescorlawagner.plot()` method. \n",
    "> 2. Plot the theoretical solution you derived earlier onto the `ax` and see if it fits."
   ]
  },
  {
   "cell_type": "code",
   "execution_count": null,
   "metadata": {},
   "outputs": [],
   "source": [
    "# Your code here"
   ]
  },
  {
   "cell_type": "code",
   "execution_count": null,
   "metadata": {},
   "outputs": [],
   "source": [
    "#@title Click to see solution {display-mode: \"form\" }\n",
    "# Plot the results\n",
    "ax = rescorlawagner.plot()\n",
    "plt.close()\n",
    "\n",
    "# Plot the analytic solution\n",
    "t_range = np.arange(100)\n",
    "V = R * (1 - np.exp(-t_range*alpha))\n",
    "ax.plot(t_range, V, label='Analytic solution', linewidth=0.5, color='k', linestyle='--')\n",
    "ax.legend()\n",
    "ax.figure"
   ]
  },
  {
   "cell_type": "markdown",
   "metadata": {},
   "source": [
    "> 📝 **Exercise 1.5**\n",
    "> \n",
    "> 1. **Acquisition:** Repeat the above experiment with a lower and a higher learning rate. What do you observe?\n",
    "> 2. **Extinction:** Repeat the above but this time reward is given only for the first 50 trials, then the reward is set to zero. What do you observe?\n"
   ]
  },
  {
   "cell_type": "code",
   "execution_count": null,
   "metadata": {},
   "outputs": [],
   "source": [
    "# Your code for low learning rate acquisition goes here"
   ]
  },
  {
   "cell_type": "code",
   "execution_count": null,
   "metadata": {},
   "outputs": [],
   "source": [
    "#@title Click to see solution {display-mode: \"form\" }\n",
    "# Set your learning rate and reward\n",
    "alpha = 0.3\n",
    "R = 1\n",
    "\n",
    "# Create the model\n",
    "RW = RescorlaWagner(alpha=alpha)\n",
    "\n",
    "# Run the model\n",
    "for trial in range(100):\n",
    "    RW.learn(R=R)\n",
    "\n",
    "# Plot the results\n",
    "ax = RW.plot()\n",
    "ax.set_title(\"Higher learning rate\")"
   ]
  },
  {
   "cell_type": "code",
   "execution_count": null,
   "metadata": {},
   "outputs": [],
   "source": [
    "# Your code for high learning rate acquisition goes here"
   ]
  },
  {
   "cell_type": "code",
   "execution_count": null,
   "metadata": {},
   "outputs": [],
   "source": [
    "#@title Click to see solution {display-mode: \"form\" }\n",
    "# Set your learning rate and reward\n",
    "alpha = 0.05\n",
    "R = 1\n",
    "\n",
    "# Create the model\n",
    "RW = RescorlaWagner(alpha=alpha)\n",
    "\n",
    "# Run the model\n",
    "for trial in range(100):\n",
    "    RW.learn(R=R)\n",
    "\n",
    "# Plot the results\n",
    "ax = RW.plot()\n",
    "ax.set_title(\"Lower learning rate\")"
   ]
  },
  {
   "cell_type": "code",
   "execution_count": null,
   "metadata": {},
   "outputs": [],
   "source": [
    "# Your code for extinction goes here"
   ]
  },
  {
   "cell_type": "code",
   "execution_count": null,
   "metadata": {},
   "outputs": [],
   "source": [
    "#@title Click to see solution {display-mode: \"form\" }\n",
    "# Set your learning rate and reward\n",
    "alpha = 0.1\n",
    "\n",
    "# Create the model\n",
    "RW = RescorlaWagner(alpha=alpha)\n",
    "\n",
    "# Run the model\n",
    "for trial in range(50):\n",
    "    RW.learn(R=1)\n",
    "for trial in range(50): #remove the reward\n",
    "    RW.learn(R=0)\n",
    "\n",
    "# Plot the results\n",
    "ax = RW.plot()\n",
    "ax.set_title(\"Extinction experiment\")"
   ]
  },
  {
   "cell_type": "markdown",
   "metadata": {},
   "source": [
    "### **1.3. Rescorla-Wagner with multiple  stimuli**\n",
    "\n",
    "It's easy to extend the Rescorla-Wagner model to multiple stimuli:\n",
    "\n",
    "* Stimuli are now represented by vectors. If there are two possible stimuli we can use a 2D vector e.g.:  \n",
    "    * Stimulus A: $\\mathbf{s} =[1, 0]$ \n",
    "    * Stimulus B: $\\mathbf{s} =[0, 1]$\n",
    "    * Stimulus A & B: $\\mathbf{s} =[1, 1]$\n",
    "    * Stimulus A weakly and B strongly: $\\mathbf{s} =[0.1, 0.9]$\n",
    "    * ...etc. \n",
    "\n",
    "* A vector of association \"weights\", $\\mathbf{w}$, denotes the strength of the association between each stimulus and the unconditioned response (i.e. the value of each stimulus). \n",
    "    * $\\mathbf{w} = [w_1, w_2]$.\n",
    "* The total value of the stimuli is the sum of the values of each stimulus present on a given trial: \n",
    "$$ \\hat{V}(\\mathbf{s}) = \\mathbf{s} \\cdot \\mathbf{w}  = s_1 \\cdot w_1 + s_2 \\cdot w_2$$\n",
    "\n",
    "The full Rescorla-Wagner model is then:\n",
    "$$\\mathbf{w} = \\mathbf{w} + \\alpha \\big(R - \\hat{V}(\\mathbf{s})\\big) \\cdot \\mathbf{s}$$\n",
    "\n",
    "> 📝 **Exercise 1.6**\n",
    ">\n",
    "> Reason why $\\mathbf{s}$ now appears in the learning rule.\n",
    "\n",
    "> 📝 **Exercise 1.7**\n",
    "> \n",
    "> As before, complete the `def learn(self, R, S):` function to implement the Rescorla-Wagner learning rule for multiple stimuli."
   ]
  },
  {
   "cell_type": "code",
   "execution_count": null,
   "metadata": {},
   "outputs": [],
   "source": [
    "class RescorlaWagner_multistim(BaseRescorlaWagner):\n",
    "    def __init__(self, n_stimuli=2, alpha=0.1, initial_value=0): \n",
    "        self.W = np.zeros(n_stimuli)\n",
    "        super().__init__(n_stimuli=n_stimuli, alpha=alpha)\n",
    "\n",
    "    def learn(self, S, R):\n",
    "        raise NotImplementedError(\"You need to implement this method\")\n",
    "        # V = ????  # calculate the value of the stimuli\n",
    "        # error = # ???? # calculate the error\n",
    "        # self.W += # ???? # update the weights\n",
    "\n",
    "        # store the history\n",
    "        # self.W_history = np.vstack([self.W_history, self.W])\n",
    "        # self.R_history.append(R)\n",
    "        # self.V_history.append(S @ self.W)\n",
    "        # self.S_history.append(S)\n"
   ]
  },
  {
   "cell_type": "code",
   "execution_count": null,
   "metadata": {},
   "outputs": [],
   "source": [
    "#@title Click to see solution {display-mode: \"form\" }\n",
    "def learn(self, S, R):\n",
    "    V = S @ self.W # calculate the value of the stimuli\n",
    "    error = R - V # calculate the error\n",
    "    self.W += alpha * S * error # update the weights\n",
    "\n",
    "    # store the history\n",
    "    self.W_history.append(self.W.copy())\n",
    "    self.R_history.append(R)\n",
    "    self.V_history.append(S @ self.W)\n",
    "    self.S_history.append(S)\n",
    "\n",
    "# Set the learn method to the function we just defined.\n",
    "RescorlaWagner_multistim.learn = learn"
   ]
  },
  {
   "cell_type": "markdown",
   "metadata": {},
   "source": [
    "**Exercise 1.8**:\n",
    "1. With your partner implement these four experiments in the Rescorla-Wagner model:\n",
    "    1. **Blocking**\n",
    "        * A single stimulus is paired with the US (A --> R), then a compound stimulus is paired with the US (AB --> R). What happens?\n",
    "    2. **Overshadowing**\n",
    "        * Two stimuli are paired with a reward (AB --> R) but one is much more salient than the other, e.g. $\\mathbf{s} = [1, 0.1]$.\n",
    "    3. **Overexpectation**\n",
    "        * Two stimuli are seperately paired with the US (A --> R, B --> R), then the compound stimulus is presented (AB --> ?). What happens?\n",
    "    4. **Conditioned Inhibition**\n",
    "        * A single stimulus is paired with the US (A --> R) then a second stimulus is added and the reward is removed. (AB --> _). What do you observe?"
   ]
  },
  {
   "cell_type": "code",
   "execution_count": null,
   "metadata": {},
   "outputs": [],
   "source": [
    "# Your code for the blocking experiment goes here"
   ]
  },
  {
   "cell_type": "code",
   "execution_count": null,
   "metadata": {},
   "outputs": [],
   "source": [
    "#@title Double click to see solution {display-mode: \"form\" }\n",
    "rescorla_blocking = RescorlaWagner_multistim(n_stimuli=2, alpha=0.1)\n",
    "for i in range(50):\n",
    "    rescorla_blocking.learn(S=np.array([1,0]), R=1)\n",
    "for i in range(50):\n",
    "    rescorla_blocking.learn(S=np.array([1,1]), R=1)\n",
    "\n",
    "rescorla_blocking.plot()"
   ]
  },
  {
   "cell_type": "markdown",
   "metadata": {},
   "source": [
    "Let's break down this plot: \n",
    "\n",
    "* The **top** plot shows the stimuli which were present on each trial. Their transparency denotes their strength. \n",
    "* The **middle** plot shows the association weights of the stimuli.\n",
    "* The **bottom** plot shows the total value of the presented stimuli $V(\\mathbf{s}) = \\mathbf{s}\\cdot\\mathbf{w}$ along with the reward recieved on each trial.\n"
   ]
  },
  {
   "cell_type": "code",
   "execution_count": null,
   "metadata": {},
   "outputs": [],
   "source": [
    "# Your code for the overshadowing experiment goes here"
   ]
  },
  {
   "cell_type": "code",
   "execution_count": null,
   "metadata": {},
   "outputs": [],
   "source": [
    "#@title Double click to see solution {display-mode: \"form\" }\n",
    "rescorla_overshadowing = RescorlaWagner_multistim(n_stimuli=2)\n",
    "for i in range(100):\n",
    "    rescorla_overshadowing.learn(S=np.array([0.9, 0.1]), R=1)\n",
    "ax = rescorla_overshadowing.plot()\n",
    "ax[0].set_title(\"Overshadowing\")"
   ]
  },
  {
   "cell_type": "code",
   "execution_count": null,
   "metadata": {},
   "outputs": [],
   "source": [
    "# Your code for the overexpectation experiment goes here"
   ]
  },
  {
   "cell_type": "code",
   "execution_count": null,
   "metadata": {},
   "outputs": [],
   "source": [
    "#@title Double click to see solution {display-mode: \"form\" }\n",
    "rescorla_overexpectation = RescorlaWagner_multistim(n_stimuli=2)\n",
    "for i in range(50):\n",
    "    rescorla_overexpectation.learn(S=np.array([1, 0]), R=1)\n",
    "for i in range(50):\n",
    "    rescorla_overexpectation.learn(S=np.array([0, 1]), R=1)\n",
    "for i in range(50):\n",
    "    rescorla_overexpectation.learn(S=np.array([1, 1]), R=1)\n",
    "ax = rescorla_overexpectation.plot()\n",
    "ax[0].set_title(\"Overexpectation\")"
   ]
  },
  {
   "cell_type": "code",
   "execution_count": null,
   "metadata": {},
   "outputs": [],
   "source": [
    "# Your code for the inhibition experiment goes here"
   ]
  },
  {
   "cell_type": "code",
   "execution_count": null,
   "metadata": {},
   "outputs": [],
   "source": [
    "#@title Double click to see solution {display-mode: \"form\" }\n",
    "rescorla_inhibition = RescorlaWagner_multistim(n_stimuli=2)\n",
    "for i in range(50):\n",
    "    rescorla_inhibition.learn(S=np.array([1, 0]), R=1)\n",
    "for i in range(50):\n",
    "    rescorla_inhibition.learn(S=np.array([1, 1]), R=0)\n",
    "ax = rescorla_inhibition.plot()\n",
    "ax[0].set_title(\"Inhibition\")"
   ]
  },
  {
   "cell_type": "markdown",
   "metadata": {},
   "source": [
    "> 📝 **Exercise 1.9**\n",
    ">\n",
    "> 1. Starting from the inhibition experiment above, extend it so that the reward prediction goes negative.\n",
    "> 2. Simulate a conditioning experiment with three stimuli, where the first two are paired with the US and the third is not. What do you observe?"
   ]
  },
  {
   "cell_type": "code",
   "execution_count": null,
   "metadata": {},
   "outputs": [],
   "source": [
    "#Your code for the negative reward prediction experiment goes here"
   ]
  },
  {
   "cell_type": "code",
   "execution_count": null,
   "metadata": {},
   "outputs": [],
   "source": [
    "#@title Double click to see solution {display-mode: \"form\" }\n",
    "RW = RescorlaWagner_multistim(n_stimuli=2)\n",
    "for i in range(50):\n",
    "    RW.learn(S=np.array([1, 0]), R=1)\n",
    "for i in range(50):\n",
    "    RW.learn(S=np.array([1, 1]), R=0)\n",
    "for i in range(50):\n",
    "    RW.learn(S=np.array([0, 1]), R=1)\n",
    "ax = RW.plot()\n",
    "ax[0].set_title(\"Negative reward prediction\")"
   ]
  },
  {
   "cell_type": "code",
   "execution_count": null,
   "metadata": {},
   "outputs": [],
   "source": [
    "# Your code for three stimuli goes here"
   ]
  },
  {
   "cell_type": "code",
   "execution_count": null,
   "metadata": {},
   "outputs": [],
   "source": [
    "#@title Double click to see solution {display-mode: \"form\" }\n",
    "RW = RescorlaWagner_multistim(n_stimuli=3)\n",
    "for i in range(10):\n",
    "    RW.learn(S=np.array([1, 0, 0]), R=1)\n",
    "for i in range(10):\n",
    "    RW.learn(S=np.array([1, 1, 0]), R=1)\n",
    "for i in range(10):\n",
    "    RW.learn(S=np.array([1, 1, 1]), R=1)\n",
    "ax = RW.plot()\n",
    "ax[0].set_title(\"Three stimuli\")"
   ]
  },
  {
   "cell_type": "markdown",
   "metadata": {},
   "source": [
    "---\n",
    "## **2. Temporal difference learning** <a name=\"td\"></a>\n",
    "\n",
    "One limitation of the Rescorla-Wagner model is that it doesn't take into account the temporal structure of the environment. Associations are made between stimuli _now_ and rewards _now_. In reality, rewards are often delayed. \n",
    "\n",
    "Now we consider temporally evolving \"Markov Reward Processes\" where states progress through time and may (or may not) return rewards.\n",
    "\n",
    "$$ S_{0} \\rightarrow R_{1}, S_{1} \\rightarrow R_{2}, S_{2} \\rightarrow R_{3}, \\ldots $$\n",
    "\n",
    "In a Markov reward process, the state transitions and rewards may be probabilistic (later we'll consider Markov \"Decision\" processes where transitions may depend on \"actions\" the agent chooses to take but for now we'll keep things simple). The \"value\" of a state is the expected sum of rewards that will be recieved in the future, starting from that state.\n",
    "\n",
    "$$V(S_t) = \\mathbb{E} \\big[ \\underbrace{R_{t+1} + \\gamma R_{t+2} + \\gamma^2 R_{t+3} + \\ldots}_{G_t = \\textrm{``return'' from state $_{S_t}$}}\\big]$$\n",
    "\n",
    "This differs from Rescorla-Wagner only in that the value of a state is not just based on the reward recieved _now_ ($V(S_t) = \\mathbb{E} [R_{t+1} ]$) but also on the rewards that will be recieved in the future.\n",
    "\n",
    "$\\gamma$ is the discount factor, typically set near or equal to 1. This factor ensures that rewards recieved in the future are \"worth\" less than rewards recieved now. This is generally a wise assumption since rewards in the future are less certain (\"a bird in the hand is worth two in the bush\").\n",
    "\n",
    "As before our goal is to learn an estimate of V(S). The goal of learning is to to refine $\\hat{V}(S_t)$ to be as close as possible to $V(S_t)$.\n",
    "\n",
    "#### **2.0.1 Tabular vs. Function Approximation**\n",
    "\n",
    "When there are multiple stimuli (or states) in an environment you have a choice. Either:\n",
    "1. **Tabular**: You can store the value of each state in a big table (tabular learning) \n",
    "$$ \\hat{V}(S_t) = [ V(S_0), V(S_1), \\ldots, V(S_{N_{\\textrm{states}}}) ] $$\n",
    "2. **Function Approximation**: You can learn a function that maps states (typical then represented by a feature vector) to values (function approximation).\n",
    "\\begin{align}\n",
    "\\hat{V}(\\mathbf{s}) & = f(\\mathbf{s})  \\hspace{4cm} \\textrm{(general)} \\\\\n",
    "& = \\mathbf{w} \\cdot \\mathbf{s}  \\hspace{4cm} \\textrm{(linear)}\\\\\n",
    "& = \\phi(\\mathbf{W}_{2}\\cdot(\\phi(\\mathbf{W}_1 \\cdot \\mathbf{s} + \\mathbf{b}_1) + \\mathbf{b}_2 )  \\hspace{1cm}\\textrm{(2-layer neural network)} \\\\\n",
    "& = \\ldots\n",
    "\\end{align}\n",
    "\n",
    "Both have advantages and disasvantages: tabular methods are typically easier to understand and (under certain conditions) have better convergence gaurantees. On the other hand function approximation methods can scale to much larger state spaces, are more biologically plausible and typically generalize better to previously unseen states.\n",
    "\n",
    "We used a linear function approximation in the Rescorla-Wagner model with multiple stimuli. This was because we wanted to be able to represent multiple stimuli simultaneously which is difficult to do with a tabular method.\n",
    "\n",
    "For now we'll revert back to tabular methods - these will be sufficient because in Markov process you can only be in one state at any given time. In section 4 where we'll consider function approximation again."
   ]
  },
  {
   "cell_type": "markdown",
   "metadata": {},
   "source": [
    "\n",
    "\n",
    "> 📝 **Exercise 2.1**\n",
    ">\n",
    "> By considering the following loss function: \n",
    "> $$L_t = \\big[ \\hat{V}(S_t) - V(S_t) \\big]^2$$\n",
    "> show, by gradient descent in $\\hat{V}(S_{t})$, that the optimal update rule for $\\hat{V}(S_t)$ is:\n",
    "> $$\\hat{V}(S_t) \\leftarrow \\hat{V}(S_t) + \\alpha \\big[ V(S_t) - \\hat{V}(S_t) \\big]$$\n",
    "\n",
    "### **2.1 Monte-Carlo learning**\n",
    "One way to estimate the value of a state is to wait until the end of each episode, collecting all the rewards that were recieved along the way and calculate the single-episode return $G_t$ and use this as a target. \n",
    "\n",
    "$$ \\hat{V}(S_t) \\leftarrow \\hat{V}(S_t) + \\alpha  \\big[ G_t - \\hat{V}(S_t) \\big] $$\n",
    "\n",
    "Since the _expectation_ of $G_t$ is equal to $V(S_t)$ this is equivalent to _stochastic gradient descent_ of the loss function and is called Monte-Carlo learning. \n",
    "\n",
    "Although in theory this does work, in practice, Monte-Carlo learning is often infeasible because it requires waiting until the end of each episode to update the value of each state. This turns out to be quite a serious limitation in real-world applications - imagine waiting until the end of a game of chess to update the value of each state! Or worse, some environments don't have a clearly defined end such as the game of life we're all currently playing. \n",
    "\n",
    "This is where TD learning comes in..."
   ]
  },
  {
   "cell_type": "markdown",
   "metadata": {},
   "source": [
    "### **2.2 TD-Learning**\n",
    "The key idea behind TD-learning is to estimate the value of a state by bootstrapping from the value of the next state. \n",
    "\n",
    "> 📝 **Exercise 2.2**\n",
    ">\n",
    "> 1. Show that the value of a state can be written as the sum of the reward recieved at that state and the value of the next state. i.e.\n",
    "> $$V(S_t) = \\mathbb{E} [R_t + \\gamma V(S_{t+1})]. $$\n",
    "\n",
    "This is called the _Bellman equation_ and is the basis of TD-learning. Its encodes a _very_ important idea: \n",
    "\n",
    "**Bellman Equation:  The future value of a state now is equal to the reward recieved now plus the value of the next state (discounted a little bit).**\n",
    "\n",
    "But wait! How do we know the value of the next state? We don't, that's why we're learning. So we'll use our current estimate of the value of the next state, $\\hat{V}(S_{t+1})$ as a _proxy_.\n",
    "\n",
    "$$V(S_t) = \\mathbb{E} [\\color{red}{\\underbrace{R_t + \\gamma V(S_{t+1})}_{\\textrm{I don't know this}}} \\color{d}{}] \\approx  \\mathbb{E}[\\color{green}{\\underbrace{R_t + \\gamma \\hat{V}(S_{t+1})}_{\\textrm{I do know this}}}\\color{d}{}] $$\n",
    "\n",
    "This gives us the TD-learning update rule:\n",
    "\n",
    "$$\\hat{V}(S_t) \\leftarrow \\hat{V}(S_t) + \\alpha \\big[\\underbrace{R_t + \\gamma \\hat{V}(S_{t+1}) - \\hat{V}(S_t)}_{\\delta_t = \\textrm{``TD-error''}} \\big]$$\n",
    "\n",
    "The term $\\delta_t$ is the _temporal difference error_ and it can be high for two reasons: \n",
    "1. The reward was better (or worse) than expected.\n",
    "2. The value of the next state was higher (or lower) than expected.\n",
    "\n",
    "The second point is crucial: even though we might not observe reward in a given state we may assign this state value because the _next_ state has value. This is called _bootstrapping_. It's the same reason you might be happy to have recieved an invitation to a job interview even though interviews aren't inherently fun - you're bootstrapping from the value of the next state.\n"
   ]
  },
  {
   "cell_type": "markdown",
   "metadata": {},
   "source": [
    "> 📝 **Exercise 2.3**\n",
    ">\n",
    "> 1. Implement the TD-learning update rule in the `def learn(self, R, S, S_next, alpha):` function in the `TD_ValueLearner` class below."
   ]
  },
  {
   "cell_type": "code",
   "execution_count": null,
   "metadata": {},
   "outputs": [],
   "source": [
    "class TD_ValueLearner(BaseTDLearner):\n",
    "    def __init__(self, gamma=0.5, alpha=0.1, n_states=10):\n",
    "        super().__init__(gamma=gamma, alpha=alpha, n_states=n_states)\n",
    "        \n",
    "    def learn(self, S, S_next, R):\n",
    "        raise NotImplementedError(\"You need to implement this method\")\n",
    "        # Get's the value of the current and next state\n",
    "        # V = self.V[S] if S is not None else 0\n",
    "        # V_next = self.V[S_next] if S_next is not None else 0\n",
    "        \n",
    "        # Calculates the TD error (hint remember to use self.gamma\n",
    "        # TD_error = # ???\n",
    "\n",
    "        # Updates the value of the current state\n",
    "        # if S is not None:\n",
    "            # self.V[S] = # ???\n",
    "\n",
    "        #  return TD_error"
   ]
  },
  {
   "cell_type": "code",
   "execution_count": null,
   "metadata": {},
   "outputs": [],
   "source": [
    "#@title Click to see solution {display-mode: \"form\" }\n",
    "def learn(self, S, S_next, R):\n",
    "    # Get's the value of the current and next state\n",
    "    V = self.V[S] if S is not None else 0\n",
    "    V_next = self.V[S_next] if S_next is not None else 0\n",
    "    \n",
    "    # Calculates the TD error \n",
    "    TD_error = R + self.gamma * V_next - V\n",
    "\n",
    "    # Updates the value of the current state\n",
    "    if S is not None:\n",
    "        self.V[S] = self.V[S] + self.alpha * TD_error\n",
    "\n",
    "    return TD_error\n",
    "\n",
    "TD_ValueLearner.learn = learn"
   ]
  },
  {
   "cell_type": "markdown",
   "metadata": {},
   "source": [
    "### **2.3 Training a TD-Learner on a sequence of states** \n",
    "\n",
    "Now we're going to train the TD learner in a simple markov reward process environment. \n",
    "\n",
    "The class method (not shown)  `TD_ValueLearner.learn_episode(states, rewards)` takes a list of `states` = $[S_0, S_1, \\ldots, S_T]$ and  `rewards` = $[R_1, R_2, \\ldots, R_{T+1}]$ and trains the TD-learner on this sequence of states and rewards by calling the `learn` method at each time step. It then saves the results to history. \n",
    "\n",
    "**Note** this appends as state $S_{-1} =$`None` and reward $R_0 = 0$ to the start of the sequence. This represents the initial state and reward before the first state is observed, and it cannot be predicted (it will be useful in exercise 2.5.3))\n",
    "\n",
    "\n",
    "For example, a MRP where states deterministically progress from 0 to 1 to ... to 9 and recieving a reward of zero except at state 9 where a reward of 1 is recieved can be simulated as follows:\n",
    "\n",
    "```python\n",
    "TD.perform_episode(\n",
    "    states  = np.array([0, 1, 2, 3, 4, 5, 6, 7, 8, 9]),\n",
    "    rewards = np.array([0, 0, 0, 0, 0, 0, 0, 0, 0, 1]),\n",
    ")\n",
    "```\n",
    "\n",
    "> 📝 **Exercise 2.4**\n",
    ">\n",
    "> Simulate 100 episodes of the above MRP (let $\\alpha = 0.5$) then use the `TDLearner.plot(episode=0)` method to show the results after the first and last episode. "
   ]
  },
  {
   "cell_type": "code",
   "execution_count": null,
   "metadata": {},
   "outputs": [],
   "source": [
    "#@title Click to see solution {display-mode: \"form\" }\n",
    "# Set some parameters \n",
    "n_episodes = 50\n",
    "gamma = 0.95\n",
    "alpha = 0.5 # for now use a high learning rate\n",
    "n_states = 10\n",
    "\n",
    "# Initialize the TD learner\n",
    "TD = TD_ValueLearner(gamma=gamma, n_states=n_states, alpha=alpha)\n",
    "\n",
    "# Generate the MRP \n",
    "states = np.array([0, 1, 2, 3, 4, 5, 6, 7, 8, 9])\n",
    "rewards = np.array([0, 0, 0, 0, 0, 0, 0, 0, 0, 1])\n",
    "\n",
    "# Run the experiment\n",
    "for episode in range(n_episodes):\n",
    "    TD.learn_episode(\n",
    "        states=states,\n",
    "        rewards=rewards,)\n",
    "\n",
    "# Plot the results\n",
    "ax0 = TD.plot(episode=0)\n",
    "ax1 = TD.plot(episode=n_episodes-1)"
   ]
  },
  {
   "cell_type": "markdown",
   "metadata": {},
   "source": [
    "Lets discuss these plot: \n",
    "\n",
    "- The **top-left** plot shows the states (y-axis) visited across time (x axis)\n",
    "- The **top-right** plot shows the current state value estimate after this episode. \n",
    "- The **bottom** plots shows the reward recieved at each state. and the TD error at each state.\n",
    "\n",
    "We can also animate _all_ the episodes using the `TD_ValueLearner.animate_plot()` method."
   ]
  },
  {
   "cell_type": "code",
   "execution_count": null,
   "metadata": {},
   "outputs": [],
   "source": [
    "anim = TD.animate_plot()\n",
    "HTML(anim.to_html5_video())"
   ]
  },
  {
   "cell_type": "markdown",
   "metadata": {},
   "source": [
    "> 📝 **Exercise 2.5**\n",
    "> \n",
    "> With your partner, answer the following questions:\n",
    "> 1. After learning has converged, what is the value of state 0? \n",
    "> 2. Approximately how fast does the value bump move backwards? How does this relate to the notion of one-step bootstrapping. \n",
    "> 3. Why does a residual TD-error accumulate at the start? Understanding this is important for understanding TD-learning."
   ]
  },
  {
   "cell_type": "markdown",
   "metadata": {},
   "source": [
    "<div>\n",
    "  <button onclick=\"this.nextElementSibling.style.display = this.nextElementSibling.style.display === 'none' ? 'block' : 'none';\">\n",
    "    Click to reveal\n",
    "  </button>\n",
    "  <div style=\"display: none;\">\n",
    "    <h1></h1>\n",
    "    <p>Exercise 2.5 solutions</p>\n",
    "    <ul>\n",
    "      <li>State 9 has value V = R, state 8 has value V = 0 + γR = γR$, state 7 has value V = 0 + γ^2 R, etc. So state 0 has value V = γ^9 R. So if R=1 and γ = 0.9 then V = 0.9^9 = 0.38742.</li>\n",
    "      <li>Suppose α = 1$ and γ is close to one. The first time the agent recieves the reward at state 9 it's value will be updated to V = 1 and no further learning will occur on this state (its TD error will be zero). On the next trial the value of state 8 will be updated due to the a TD error because the new value of upcoming state 9 wasn't predicted. Thus, the bump moves backwards at approximately a rate of one-step-each-trial.</li>\n",
    "      <li>The residual TD-error at the start is because the first state is never predictable. Pavlov's dog may be able to associate the bell with the food, but it can't predict the bell so hearing the bell will always come as a positive surprise (aka. a positive TD-error).</li>\n",
    "    </ul>\n",
    "  </div>\n",
    "</div>"
   ]
  },
  {
   "cell_type": "markdown",
   "metadata": {},
   "source": [
    "> 📝 **Exercise 2.6**\n",
    ">\n",
    "> 1. What would happen to the TD error if a small positive reward is given at the end (as we just simulated) and then, after learning has converged, the reward is removed? _Hint: think about what happens in the brain, and why_.\n",
    "> 2. Simulate this experiment. "
   ]
  },
  {
   "cell_type": "code",
   "execution_count": null,
   "metadata": {},
   "outputs": [],
   "source": [
    "# Your code goes here"
   ]
  },
  {
   "cell_type": "code",
   "execution_count": null,
   "metadata": {},
   "outputs": [],
   "source": [
    "#@title Click to see solution {display-mode: \"form\" }\n",
    "# Set some parameters \n",
    "n_episodes = 50\n",
    "gamma = 0.95\n",
    "alpha = 0.5 # for now use a high learning rate\n",
    "n_states = 10\n",
    "\n",
    "# Initialize the TD learner\n",
    "TD = TD_ValueLearner(gamma=gamma, n_states=n_states, alpha=alpha)\n",
    "\n",
    "# Generate the MRP \n",
    "states = np.array([0, 1, 2, 3, 4, 5, 6, 7, 8, 9])\n",
    "rewards = np.array([0, 0, 0, 0, 0, 0, 0, 0, 0, 1])\n",
    "later_rewards = np.array([0, 0, 0, 0, 0, 0, 0, 0, 0, 0])\n",
    "\n",
    "# Run the experiment\n",
    "for episode in range(n_episodes):\n",
    "    TD.learn_episode(\n",
    "        states=states,\n",
    "        rewards=rewards,)\n",
    "# Run the experiment\n",
    "for episode in range(n_episodes):\n",
    "    TD.learn_episode(\n",
    "        states=states,\n",
    "        rewards=later_rewards,)\n",
    "\n",
    "# Animating the results\n",
    "anim = TD.animate_plot()   \n",
    "HTML(anim.to_html5_video())"
   ]
  },
  {
   "cell_type": "markdown",
   "metadata": {},
   "source": [
    "> 📝 **Exercise 2.7**\n",
    "> \n",
    "> What happens if this environment is stochastic? Adapt the code to model the following very stochastic environment...\n",
    ">\n",
    "> 1. **The state transitions are now probabilistic**: \n",
    "    - As before there are $N = 10$ states from $i=0$ to $i=N-1$.\n",
    "    - When the agent is in state $S_t = i$ it has a probability $p_t = 0.8$ of moving to state $S_{t+1} = i+1$ and a 0.1 probability of staying in state $S_{t+1} = i$. \n",
    "    - The agent starts in state $S =0$ and episode ends whenever the agent reaches state $S=N-1$.\n",
    ">\n",
    "> 2. **The rewards are probabilistic** as a function of the state: \n",
    "    - When the agent is in state $S_t = i$ it has a probability $p_r = (i+1) / N$ of a getting a reward of$R_{t+1} = 1$, otherwise it recieves nothing. ie. it is guaranteed to recieve a reward of 1 in the last state but only has a 0.1 probability of recieving a reward in the first state.\n",
    ">\n",
    "> 3. **Simulate** 200 episodes(let $\\gamma = 0.8$ and $\\alpha = 0.1$ of this new MRP and plot the results.\n",
    "> Despite the highly stochastic nature of this environment, discuss why the TD learner converges on a fairly stable estimate of the value of each state. Why would this be useful in the brain? \n",
    "> \n",
    "> 4. **OPTIONAL**: Though stochastic, there is a exact solution to the value of each state in this environment. Can you derive it? \n",
    "> You'll want to start from the Bellman equation $V(S_t) = \\mathbb{E} [R_t + \\gamma V(S_{t+1})]$ and show the expected value of the last state $S = N-1$ is 1.0 then derive the following recursion relation:\n",
    "> $$ V(N-1) = 1$$\n",
    "> $$ V(n) = \\frac{1}{1 - \\gamma (1-p_t)} \\left( \\frac{n + 1}{N} + \\gamma p_t \\cdot V(n+1) \\right) $$ "
   ]
  },
  {
   "cell_type": "code",
   "execution_count": null,
   "metadata": {},
   "outputs": [],
   "source": [
    "# Here is the previous code for convenience. Adapt it as required. \n",
    "\n",
    "# Set some parameters \n",
    "n_episodes = 50\n",
    "gamma = 0.8\n",
    "alpha = 0.5 # for now use a high learning rate\n",
    "n_states = 10\n",
    "# Initialize the TD learner\n",
    "TD = TD_ValueLearner(gamma=gamma, n_states=n_states, alpha=alpha)\n",
    "\n",
    "\n",
    "# ===================   REWRITE THIS SECTION================================\n",
    "# Generate the MRP: THESE WILL NEED TO BE REWRITTEN INSIDE THE LOOP\n",
    "raise NotImplementedError(\"You need to rewrite this loop according to exercise 2.7\") \n",
    "states = np.array([0, 1, 2, 3, 4, 5, 6, 7, 8, 9])\n",
    "rewards = np.array([0, 0, 0, 0, 0, 0, 0, 0, 0, 1])\n",
    "\n",
    "# Run the experiment\n",
    "for episode in range(n_episodes):\n",
    "    TD.learn_episode(\n",
    "        states=states,\n",
    "        rewards=rewards,)\n",
    "# ==========================================================================\n",
    "\n",
    "\n",
    "\n",
    "# NEW Here we calculate the theoretical value estimates and set them to be plotted\n",
    "theoretical_value = np.zeros(n_states)\n",
    "for i in range(n_states)[::-1]:\n",
    "    if i == n_states - 1:\n",
    "        theoretical_value[i] = 1 \n",
    "    else:\n",
    "        theoretical_value[i] = (1 / (1 - gamma * (1 - p_transition))) * (((i + 1)/n_states) + gamma * p_transition * theoretical_value[i+1])\n",
    "TD.theoretical_value = theoretical_value #this will plot the theoretical value onto the animation \n",
    "\n",
    "# Plot the results\n",
    "TD.plot(episode=n_episodes-1)\n",
    "\n",
    "# Animate the results (this takes time so only do this at the end)\n",
    "# anim = TD.animate_plot()\n",
    "# HTML(anim.to_html5_video())"
   ]
  },
  {
   "cell_type": "code",
   "execution_count": null,
   "metadata": {},
   "outputs": [],
   "source": [
    "#@title Click to see solution (warning: may take up to a minute to animate) {display-mode: \"form\" }\n",
    "# # Set some parameters \n",
    "n_episodes = 200\n",
    "gamma = 0.8\n",
    "alpha = 0.1 # for now use a high learning rate\n",
    "n_states = 10\n",
    "p_transition = 0.8 \n",
    "\n",
    "# Initialize the TD learner\n",
    "TD = TD_ValueLearner(gamma=gamma, n_states=n_states, alpha=alpha)\n",
    "\n",
    "\n",
    "# Run the experiment\n",
    "for episode in range(n_episodes):\n",
    "    # Generate the MRP \n",
    "    states = np.array([0])\n",
    "    rewards = np.array([0])\n",
    "    while states[-1] != 9:\n",
    "        # Stochoastic transition\n",
    "        if np.random.rand() < p_transition: state_next = states[-1] + 1\n",
    "        else: state_next = states[-1]\n",
    "        # Stochoastic reward\n",
    "        p_reward = (states[-1]+1) / n_states\n",
    "        reward = np.random.choice([0, 1], p=[1-p_reward, p_reward])\n",
    "        rewards = np.append(rewards, reward)\n",
    "        states = np.append(states, state_next)\n",
    "    TD.learn_episode(\n",
    "        states=states,\n",
    "        rewards=rewards,)\n",
    "\n",
    "# NEW Here we calculate the theoretical value estimates and set them to be plotted\n",
    "theoretical_value = np.zeros(n_states)\n",
    "for i in range(n_states)[::-1]:\n",
    "    if i == n_states - 1:\n",
    "        theoretical_value[i] = 1 \n",
    "    else:\n",
    "        theoretical_value[i] = (1 / (1 - gamma * (1 - p_transition))) * (((i + 1)/n_states) + gamma * p_transition * theoretical_value[i+1])\n",
    "TD.theoretical_value = theoretical_value #this will plot the theoretical value onto the animation \n",
    "\n",
    "\n",
    "# Plot the results\n",
    "anim = TD.animate_plot()\n",
    "HTML(anim.to_html5_video())"
   ]
  },
  {
   "cell_type": "markdown",
   "metadata": {},
   "source": [
    "Even though the environment is stochastic the _expected_ value of each state is well defined. With a small learning rate the TD learner can learn this expected value essentially smoothing over the stochasticity. This is a key insight into how the brain might learn in a stochastic world."
   ]
  },
  {
   "cell_type": "markdown",
   "metadata": {},
   "source": [
    "---\n",
    "## **3. Q-Values and Policy Improvement** <a name=\"q\"></a>\n",
    "\n",
    "So far we have only considered environments where there is no choice. The agent is simply moving through a sequence of states. In the real world agents have choices (called _actions_) and the value of a state is not just the value of the state itself but the value of the state _and the action taken in that state_.\n",
    "\n",
    "For this we need to introduce the idea concept of a _policy_. A policy is any function which maps states to actions, actions then determine how one state leads to another. Policies are often denoted by $\\pi$:\n",
    "\n",
    "$$ \\pi : S \\rightarrow A $$\n",
    "\n",
    "A _Markov reward process_ (MRP) where the agent has a policy is called a _Markov Decision Process_ (MDP).\n",
    "\n",
    "$$ S_0 \\xrightarrow{A_0 \\sim \\pi(S_0)} R_1, S_1 \\xrightarrow{A_1\\sim \\pi(S_1)} R_2, S_2 \\xrightarrow{A_2\\sim \\pi(S_2)} R_3, S_3 \\xrightarrow{A_3\\sim \\pi(S_3)} R_4, S_4 \\xrightarrow{A_4\\sim \\pi(S_4)} \\ldots $$\n",
    "\n",
    "The _action_ the agent took at each state determines the state the agent ends up in next which may (or may not) come with a reward.\n",
    "\n",
    "### **3.1 Q-Values**\n",
    "\n",
    "The \"value'' of a state now depends not just on the state but on the action taken in that state and the policy that was followed thereafter. \n",
    "\n",
    "Q-values represent a natural generalisation of the state value of a state-action pair under a policy: \n",
    "\n",
    "$$ Q_{\\pi}(s, a) = \\mathbb{E}_{\\pi} \\big[ R_{t+1} + \\gamma R_{t+2} + \\gamma^2 R_{t+3} + \\ldots \\big| S_t = s, A_t = a \\big] $$\n",
    "\n",
    "In plain English this say: \"$Q_{\\pi}(s, a)$ is the expected return from taking action $a$ in state $s$ and then following policy $\\pi$.\". Note the expectation is over $\\pi$ because the policy determines the future actions, states and rewards. The policy (which actions are taken in which states) and the environment (which states and rewards are reached from which states) could _both_ be stochastic.\n",
    "\n",
    "Like the value of a state, the Q-values satisfy the Bellman equation:\n",
    "\n",
    "$$ Q_{\\pi}(s, a) = \\mathbb{E}_{\\pi} \\big[ R_{t+1} + \\gamma Q_{\\pi}(S_{t+1}, A_{t+1}) \\big| S_t = s, A_t = a, A_{t+1}\\sim\\pi(S_{t+1)}) \\big] $$\n",
    "\n",
    "> 📝 **Exercise 3.1**\n",
    ">\n",
    "> Consider a simple MDP where there are two states ($S_1$ and $S_2$) and two actions ($A_1$ and $A_2$).\n",
    "> 1. From $S_1$: taking action $A_1$ leads to $S_2$ with reward 2, taking action $A_2$ leads to $S_1$ with reward 1.\n",
    "> 2. From $S_2$: taking action $A_1$ leads to $S_1$ with reward 3, taking action $A_2$ leads to $S_2$ with reward 1.\n",
    "> \n",
    "> Question 1: Given the policy $\\pi_1$ where $\\pi_1(S_1) = A_1$, $\\pi(S_2) = A_2$, what are the Q-values of each state-action pair under this policy (it might help to calculate them in the following order)?\n",
    "> * $Q_{\\pi_1}(S_2, A_2)$\n",
    "> * $Q_{\\pi_1}(S_1, A_1)$\n",
    "> * $Q_{\\pi_1}(S_1, A_2)$\n",
    "> * $Q_{\\pi_1}(S_2, A_1)$\n",
    ">\n",
    "> Question 2: Write down the optimal policy $\\pi^*$\n",
    "> * $\\pi^*(S_1) = ?$\n",
    "> * $\\pi^*(S_2) = ?$\n",
    ">\n",
    "> Question 3: What are the Q-values of each state-action pair under the optimal policy $\\pi^*$?\n",
    "> * $Q_{\\pi^*}(S_1, A_1)$\n",
    "> * $Q_{\\pi^*}(S_2, A_2)$\n",
    "> * $Q_{\\pi^*}(S_1, A_2)$\n",
    "> * $Q_{\\pi^*}(S_2, A_1)$"
   ]
  },
  {
   "cell_type": "markdown",
   "metadata": {},
   "source": [
    "### **3.2 SARSA**\n",
    "\n",
    "Not all MDPs are  simple enough to solve analytically like the example above. In practice we often use _learning algorithms_ to estimate the Q-values from observations. \n",
    "\n",
    "The closest equivalent learning rule to TD-learning rule for Q-values is:\n",
    "\n",
    "$$\\hat{Q}_{\\pi}(S_t, A_t) \\leftarrow \\hat{Q}_{\\pi}(S_t, A_t) + \\alpha \\big[ R_t + \\gamma \\hat{Q}_{\\pi}(S_{t+1}, A_{t+1}) - \\hat{Q}_{\\pi}(S_t, A_t) \\big]$$\n",
    "\n",
    "This is often called the SARSA learning rule because it takes into account the **S**tate $S_t$, the **A**ction $A_t$, the **R**eward $R_{t+1}$, the next **S**tate $S_{t+1}$ and the next **A**ction $A_{t+1}$.\n",
    "\n",
    "Note how it looks almost identical to the TD-learning rule for state values but with the addition of the action terms. "
   ]
  },
  {
   "cell_type": "markdown",
   "metadata": {},
   "source": [
    "Let's adapt or `TD_ValueLearner` class into a `TD_QValueLearner` to learn Q-values. It's pretty simple, we just need: \n",
    "\n",
    "1. Change `self.V` (a list) to `self.Q` (an array) to store Q-values for each state-action pair. \n",
    "    - `self.Q[s, a]` is the Q-value of state `s` and action `a`.\n",
    "2. Change the `learn()` method to update Q-values instead of state values. I.e. instead of \n",
    "    - `self.learn(S, S_next, R)` updating `self.V[S]`...\n",
    "    - `self.learn(S, S_next, A, A_next, R)` should update `self.Q[S, A]`."
   ]
  },
  {
   "cell_type": "markdown",
   "metadata": {},
   "source": [
    "> 📝 **Exercise 3.2**\n",
    ">\n",
    "> Complete the missing lines (those with `????`) in the `def learn(self, S, S_next, A, A_next, R, alpha):` function in the `TD_QValueLearner` class below.\n"
   ]
  },
  {
   "cell_type": "code",
   "execution_count": null,
   "metadata": {},
   "outputs": [],
   "source": [
    "class TD_QValueLearner(BaseTDQLearner):\n",
    "    def __init__(self, gamma=0.5, alpha=0.1, n_states=10, n_actions=2):\n",
    "        # self.Q = # ???? # initialize the Q table with the right shape\n",
    "        super().__init__(gamma=gamma, alpha=alpha, n_states=n_states, n_actions=n_actions)\n",
    "  \n",
    "    def learn(self, S, S_next, A, A_next, R):\n",
    "        # Get's the value of the current and next state\n",
    "        raise NotImplementedError(\"You need to implement this method\")\n",
    "        # Q = # ???? # get the value of the current state (remember it's zero if S is None)\n",
    "        # Q_next = # ???? # get the value of the next state\n",
    "         \n",
    "        # Calculates the TD error (hint remember to use self.gamma\n",
    "        # TD_error = # ???? # calculate the TD error\n",
    "\n",
    "        # Updates the value of the current state\n",
    "        # if S is not None:\n",
    "        #     self.Q[S,A] = # ???? # update the Q value\n",
    "\n",
    "        # return TD_error"
   ]
  },
  {
   "cell_type": "code",
   "execution_count": null,
   "metadata": {},
   "outputs": [],
   "source": [
    "#@title Click to see solution {display-mode: \"form\" }\n",
    "class TD_QValueLearner(BaseTDQLearner):\n",
    "    def __init__(self, gamma=0.5, alpha=0.1, n_states=10, n_actions=2):\n",
    "        self.Q = np.zeros((n_states, n_actions))\n",
    "        super().__init__(gamma=gamma, alpha=alpha, n_states=n_states, n_actions=n_actions)\n",
    "  \n",
    "    def learn(self, S, S_next, A, A_next, R):\n",
    "        # Get's the value of the current and next state\n",
    "        Q = self.Q[S,A] if S is not None else 0\n",
    "        Q_next = self.Q[S_next, A_next] if S_next is not None else 0\n",
    "        \n",
    "        # Calculates the TD error (hint remember to use self.gamma\n",
    "        TD_error = R + self.gamma * Q_next - Q\n",
    "\n",
    "        # Updates the value of the current state\n",
    "        if S is not None:\n",
    "            self.Q[S,A] = self.Q[S,A] + self.alpha * TD_error \n",
    "\n",
    "        return TD_error"
   ]
  },
  {
   "cell_type": "markdown",
   "metadata": {},
   "source": [
    "> 📝 **Exercise 3.3**\n",
    "> \n",
    "> Perform the following experiment: each episode, with a 50:50 probability, is either a \"left\" episode or a \"right\" episode:\n",
    "> 1. **\"Right\"** Agent moves to the right from $S=0$ to $S=9$ (action $A = 0$), recieving a reward ($R=1$) at the terminal state.\n",
    "> 2. **\"Left\"** Agent moves to the left from $S=9$ to $S=0$ (action $A = 1$), recieving no reward ($R=0$) at the terminal state.\n",
    "\n",
    "> 📝 **Exercise 3.4**\n",
    ">\n",
    "> Using `TDQLearner.Q` plot the Q-values of each state-action pair. What difference do you observe between the Q-values of _the same two states_ under the two different actions? "
   ]
  },
  {
   "cell_type": "code",
   "execution_count": null,
   "metadata": {},
   "outputs": [],
   "source": [
    "gamma = 0.90 # discount factor\n",
    "alpha = 0.5 # learning rate\n",
    "n_episodes = 100\n",
    "\n",
    "# Make the TDQ learner\n",
    "TDQ = TD_QValueLearner(gamma=gamma, alpha=alpha, n_states=10, n_actions=2)\n",
    "\n",
    "for episode in range(n_episodes):\n",
    "    \n",
    "    # randomly choose between a left or right episode\n",
    "    episode_type = np.random.choice(['left', 'right'])\n",
    "\n",
    "    # write code which generates the states, actions and rewards for the episode and then performs the episode"
   ]
  },
  {
   "cell_type": "code",
   "execution_count": null,
   "metadata": {},
   "outputs": [],
   "source": [
    "#@title Click to see solution {display-mode: \"form\" }\n",
    "gamma = 0.90 # discount factor\n",
    "alpha = 0.5 # learning rate\n",
    "n_episodes = 100\n",
    "\n",
    "# Make the TDQ learner\n",
    "TDQ = TD_QValueLearner(gamma=gamma, alpha=alpha, n_states=10, n_actions=2)\n",
    "\n",
    "for episode in range(n_episodes):\n",
    "    \n",
    "    # randomly choose between a left or right episode\n",
    "    episode_type = np.random.choice(['left', 'right'])\n",
    "\n",
    "    if episode_type == 'left':\n",
    "        states = np.array([0, 1, 2, 3, 4, 5, 6, 7, 8, 9])\n",
    "        actions = np.array([0, 0, 0, 0, 0, 0, 0, 0, 0, 0])\n",
    "        rewards = np.array([0, 0, 0, 0, 0, 0, 0, 0, 0, 1])\n",
    "    elif episode_type == 'right':\n",
    "        states = np.array([9, 8, 7, 6, 5, 4, 3, 2, 1, 0])\n",
    "        actions = np.array([1, 1, 1, 1, 1, 1, 1, 1, 1, 1])\n",
    "        rewards = np.array([0, 0, 0, 0, 0, 0, 0, 0, 0, -1])\n",
    "    \n",
    "    TDQ.learn_episode(\n",
    "        states=states,\n",
    "        actions=actions,\n",
    "        rewards=rewards)"
   ]
  },
  {
   "cell_type": "code",
   "execution_count": null,
   "metadata": {},
   "outputs": [],
   "source": [
    "# Write code to plot the Q values "
   ]
  },
  {
   "cell_type": "code",
   "execution_count": null,
   "metadata": {},
   "outputs": [],
   "source": [
    "#@title Click to see solution {display-mode: \"form\" }\n",
    "Q_values = TDQ.Q\n",
    "fig, ax = plt.subplots(1,1 , figsize=(4,2))\n",
    "ax.bar(np.arange(10), Q_values[:,0], color='C0', label='Action = 0 (\"Right\")', alpha=0.5)\n",
    "ax.bar(np.arange(10), Q_values[:,1], color='C1', label='Action = 1 (\"Left\")', alpha=0.5)\n",
    "ax.axhline(0, color='k', linewidth=0.5)\n",
    "ax.set_xlabel('State')\n",
    "ax.legend() \n"
   ]
  },
  {
   "cell_type": "markdown",
   "metadata": {},
   "source": [
    "### **3.3 Policy Improvement**\n",
    "\n",
    "So far we have learnt how to: \n",
    "1. **Rewards** Associate states with rewards by minimising the prediciton error (Rescorla-Wagner)\n",
    "2. **Values** Evaluate a _state_ by states with future rewards by bootstrapping from the value of the next state and minimising the temporal difference error (TD-learning)\n",
    "3. **Q-Values** Evaluate a _policy_ by calculating the Q-value of taking each action in each state and minimising the temporal difference error (SARSA). \n",
    "\n",
    "The final pillar of model-free reinforcement learning is **Policy Improvement**. This is the process of using the Q-values to improve the policy.\n",
    "\n",
    "4. **Policy Improvement** Use <some-algorithm> to refine the policy to maximise the expected return. The goal is to find the optimal policy $\\pi^*$ which maximises the expected return from each state.\n",
    "\n",
    "$$ \\pi^* = \\arg\\max_{\\pi} Q_{\\pi}(s, a) \\hspace{3mm} \\forall \\hspace{3mm}s, a$$\n",
    "\n",
    "In principle there a many ways to learn the policy, such examples include: \n",
    "There two main families of algorithms:\n",
    "1. **Policy-based methods**: Learn the policy directly, for example using a neural network to map states to actions directly (example: _REINFORCE_, or _Actor-Critic_ methods). We will not be covering these methods in this tutorial.\n",
    "1. **Value-based methods**: Learn the Q-values and then derive the policy from the Q-values.\n",
    "\n",
    "#### **3.3.1 $\\epsilon$-greedy policy**\n",
    "\n",
    "\n",
    "\n"
   ]
  },
  {
   "cell_type": "code",
   "execution_count": null,
   "metadata": {},
   "outputs": [],
   "source": [
    "grid = np.array( # 0 = empty, 1 = wall, 2 = reward\n",
    "    [\n",
    "        [1, 1, 1, 1, 1, 1, 1, 1, 1, 1, 1, 1, 1],\n",
    "        [1, 0, 0, 0, 0, 0, 0, 0, 0, 0, 0, 0, 1],\n",
    "        [1, 0, 0, 0, 0, 0, 0, 0, 0, 0, 0, 0, 1],\n",
    "        [1, 0, 0, 0, 0, 0, 0, 0, 0, 0, 0, 0, 1],\n",
    "        [1, 0, 0, 0, 0, 0, 0, 0, 1, 0, 0, 0, 1],\n",
    "        [1, 0, 0, 0, 0, 0, 0, 0, 1, 0, 0, 0, 1],\n",
    "        [1, 0, 0, 0, 0, 0, 0, 0, 1, 0, 0, 0, 1],\n",
    "        [1, 0, 0, 0, 0, 0, 0, 0, 1, 0, 0, 0, 1],        \n",
    "        [1, 0, 0, 0, 0, 0, 0, 0, 1, 0, 0, 0, 1],\n",
    "        [1, 0, 0, 0, 0, 0, 0, 0, 1, 0, 0, 0, 1],\n",
    "        [1, 0, 0, 0, 0, 0, 0, 0, 1, 0, 0, 0, 1],\n",
    "        [1, 0, 0, 0, 0, 0, 0, 0, 1, 0, 0, 0, 1],\n",
    "        [1, 1, 1, 1, 1, 1, 1, 1, 1, 1, 1, 1, 1],\n",
    "    ])\n",
    "\n",
    "\n",
    "minigrid = MiniGrid(\n",
    "    grid = grid,\n",
    "    init_agent_pos=(3,7),\n",
    "    reward_locations = [(10,2),]\n",
    "    )\n",
    "\n",
    "tdqlearner = TD_QValueLearner(\n",
    "    gamma=0.95, \n",
    "    alpha=0.1, \n",
    "    n_states=minigrid.n_states, \n",
    "    n_actions=minigrid.n_actions)\n",
    "\n",
    "# minigrid.render()\n",
    "\n",
    "minigrid.plot_Q_values(tdqlearner.Q)"
   ]
  },
  {
   "cell_type": "code",
   "execution_count": null,
   "metadata": {},
   "outputs": [],
   "source": [
    "episode_lengths = []\n",
    "for i in (pbar := tqdm(range(1500))):\n",
    "    try: \n",
    "        episode_data = minigrid.perform_episode(Q_values=tdqlearner.Q, epsilon=0.1)\n",
    "        tdqlearner.learn_episode(\n",
    "            states=episode_data['states'],\n",
    "            actions=episode_data['actions'],\n",
    "            rewards=episode_data['rewards'])\n",
    "        minigrid.reset()\n",
    "        pbar.set_description(f\"Episode length (recent average): {episode_data['smoothed_episode_length'] : .0f}\")\n",
    "        episode_lengths.append(len(episode_data['states']))\n",
    "    except KeyboardInterrupt:\n",
    "        break"
   ]
  },
  {
   "cell_type": "code",
   "execution_count": null,
   "metadata": {},
   "outputs": [],
   "source": [
    "minigrid.plot_Q_values(tdqlearner.Q)\n",
    "minigrid.plot_episode_length()"
   ]
  },
  {
   "cell_type": "code",
   "execution_count": null,
   "metadata": {},
   "outputs": [],
   "source": [
    "#@title Run this code to plot the first and last 5 episodes  {display-mode: \"form\" }\n",
    "fig, ax = plt.subplots(1,5, figsize=(10,2))\n",
    "for i in range(5):\n",
    "    minigrid.plot_episode(i, ax=ax[i])\n",
    "fig.suptitle(\"First 5 episodes\")\n",
    "\n",
    "fig, ax = plt.subplots(1,5, figsize=(10,2))\n",
    "for i in range(5):\n",
    "    minigrid.plot_episode(-i-1, ax=ax[i])\n",
    "fig.suptitle(\"Last 5 episodes\")"
   ]
  },
  {
   "cell_type": "markdown",
   "metadata": {},
   "source": [
    "* Play around with epsilon, gamma and environment size / shape. \n",
    "Limitations \n",
    "* Change in rewards \n",
    "* Change in transitions (shortcuts). \n",
    "* Curse of dimensionality \n"
   ]
  },
  {
   "cell_type": "markdown",
   "metadata": {},
   "source": [
    "---\n",
    "## **4. State features and function approximation** <a name=\"dqn\"></a>"
   ]
  },
  {
   "cell_type": "markdown",
   "metadata": {},
   "source": []
  },
  {
   "cell_type": "markdown",
   "metadata": {},
   "source": []
  },
  {
   "cell_type": "markdown",
   "metadata": {},
   "source": []
  },
  {
   "cell_type": "markdown",
   "metadata": {},
   "source": []
  },
  {
   "cell_type": "markdown",
   "metadata": {},
   "source": []
  },
  {
   "cell_type": "markdown",
   "metadata": {},
   "source": []
  },
  {
   "cell_type": "markdown",
   "metadata": {},
   "source": []
  },
  {
   "cell_type": "markdown",
   "metadata": {},
   "source": []
  },
  {
   "cell_type": "markdown",
   "metadata": {},
   "source": [
    "---\n",
    "## **5. Solutions** <a name=\"solutions\"></a>"
   ]
  },
  {
   "cell_type": "markdown",
   "metadata": {},
   "source": [
    "## Solution to exercise 2.4:\n",
    "\n",
    "The terminal state $S_t = N-1$ has a known value of $V(S = N-1) = \\mathbb{E}[ R(S = N-1)] = 1$ (guaranteed reward of 1). \n",
    "\n",
    "Using the Bellman equation: \n",
    "\n",
    "\\begin{align}\n",
    "V(S_t = n) &= \\mathbb{E} [R_t + \\gamma V(S_{t+1})] \\\\\n",
    "           &= \\mathbb{E} [R_t]  + \\mathbb{E} [\\gamma V(S_{t+1})]  \\\\\n",
    "           &= \\frac{n + 1}{N}\\cdot 1 + \\gamma \\mathbb{E}_{S_{t+1}}[ V(S_{t+1}) ] \\\\\n",
    "           &= \\frac{n + 1}{N}\\cdot 1 + \\underbrace{\\gamma p_t \\cdot V(S_{t+1} = n+1)}_{\\textrm{it transitioned to next state}} + \\underbrace{\\gamma (1-p_t) \\cdot V(S_{t}=n)}_{\\textrm{it stayed in the same state}} \\\\\n",
    "(1 - \\gamma (1-p_t)) V(S_t = n) &= \\frac{n + 1}{N} + \\gamma p_t \\cdot V(S_{t+1} = n+1) \\\\\n",
    "V(S_t = n) &= \\frac{1}{1 - \\gamma (1-p_t)} \\left( \\frac{n + 1}{N} + \\gamma p_t \\cdot V(S_{t+1} = n+1) \\right) \\\\\n",
    "V(n) &= \\frac{1}{1 - \\gamma (1-p_t)} \\left( \\frac{n + 1}{N} + \\gamma p_t \\cdot V(n+1) \\right)\n",
    "\\end{align}\n",
    "  has value $V = R$, state 8 has value $V = 0 + \\gamma * R = \\gamma R$, state 7 has value $V = 0 + \\gamma^2 R$, etc. So state 0 has value $V = \\gamma^9 R$. So if $R=1$ and $\\gamma = 0.9$ then $V = 0.9^9 = 0.387420489$."
   ]
  },
  {
   "cell_type": "markdown",
   "metadata": {},
   "source": [
    "## Solutions to exercise 3.1: \n",
    "\n",
    "**Question 1:**\n",
    "\n",
    "Recall the Bellman equation for taking action $A_t$ in state $S_t$ and transitioning to state $S_{t+1}$ getting reward $R_{t+1}$: $Q_{\\pi}(S_t, A_t) = \\mathbb{E} \\big[ R_{t+1} + \\gamma Q_{\\pi}(S_{t+1}, \\pi(S_{t+1})  \\big]$. In our case everything is deterministic so we can drop the expectation.\n",
    "\n",
    "\\begin{align}\n",
    "Q_{\\pi_1}(S_2, A_2) &= 1 + \\gamma Q_{\\pi_1}(S_2, \\pi_1(S_2)) \\\\\n",
    "                    &= 1 + \\gamma Q_{\\pi_1}(S_2,A_2) \\\\\n",
    "                    &= \\frac{1}{1 - \\gamma} \n",
    "\\end{align}\n",
    "\n",
    "Likewise \n",
    "\n",
    "\\begin{align}\n",
    "Q_{\\pi_1}(S_1, A_1) &= 2 + \\gamma Q_{\\pi_1}(S_2, \\pi_1(S_2)) \\\\\n",
    "                    &= 2 + \\gamma Q_{\\pi_1}(S_2,A_2) \\\\\n",
    "                    &= 2 + \\gamma \\frac{1}{1 - \\gamma} \\\\\n",
    "                    &= \\frac{2 - \\gamma}{1 - \\gamma}\n",
    "\\end{align}\n",
    "\n",
    "\n",
    "\\begin{align}\n",
    "Q_{\\pi_1}(S_1, A_2) &= 1 + \\gamma Q_{\\pi_1}(S_1, \\pi_1(S_1)) \\\\\n",
    "                    &= 1 + \\gamma Q_{\\pi_1}(S_1,A_1) \\\\\n",
    "                    &= 1 + \\gamma \\frac{2 - \\gamma}{1 - \\gamma} \\\\\n",
    "                    &= \\frac{1 + \\gamma - \\gamma^2}{1 - \\gamma}\n",
    "\\end{align}\n",
    "\n",
    "\\begin{align}\n",
    "Q_{\\pi_1}(S_2, A_1) &= 3 + \\gamma Q_{\\pi_1}(S_1, \\pi_1(S_1)) \\\\\n",
    "                    &= 3 + \\gamma Q_{\\pi_1}(S_1,A_1) \\\\\n",
    "                    &= 3 + \\gamma \\frac{2 - \\gamma}{1 - \\gamma} \\\\\n",
    "                    &= \\frac{3 - \\gamma - \\gamma^2}{1 - \\gamma}\n",
    "\\end{align}\n",
    "\n",
    "\n",
    "\n",
    "**Question 2:**\n",
    "The optimal policy, $\\pi^{*}$ is to take action $A_1$ in state $S_1$ and action $A_1$ in state $S_2$. \n",
    "\n",
    "**Question 3:**\n",
    "The value of each state-action pair under the optimal policy $\\pi^{*}$ is:\n",
    "\n",
    "\\begin{align}\n",
    "Q_{\\pi^{*}}(S_1, A_1) &= 2 + \\gamma Q_{\\pi^{*}}(S_2, \\pi^{*}(S_2)) \\\\\n",
    "                    &= 2 + \\gamma Q_{\\pi^{*}}(S_2,A_1) \\\\\n",
    "\\end{align}\n",
    "\n",
    "\\begin{align}\n",
    "Q_{\\pi^{*}}(S_2, A_1) &= 3 + \\gamma Q_{\\pi^{*}}(S_1, \\pi^{*}(S_1)) \\\\\n",
    "                    &= 3 + \\gamma Q_{\\pi^{*}}(S_1,A_1) \\\\\n",
    "\\end{align}\n",
    "Solving these simultaneously gives:\n",
    "\\begin{align}\n",
    "Q_{\\pi^{*}}(S_2, A_1) &= \\frac{3 + 2\\gamma}{1 - \\gamma^2} \\\\\n",
    "Q_{\\pi^{*}}(S_1, A_1) &= \\frac{2 + 3\\gamma}{1 - \\gamma^2} \\\\\n",
    "\\end{align}\n",
    "\n",
    "For the other state-action pairs:\n",
    "\\begin{align}\n",
    "Q_{\\pi^{*}}(S_1, A_2) &= 1 + \\gamma Q_{\\pi^{*}}(S_1, \\pi^{*}(S_1)) \\\\\n",
    "                    &= 1 + \\gamma Q_{\\pi^{*}}(S_1,A_1) \\\\\n",
    "                    &= 1 + \\gamma \\frac{2 + 3\\gamma}{1 - \\gamma^2} \\\\\n",
    "                    &= \\frac{1 + 2\\gamma + 2\\gamma^2}{1 - \\gamma^2} \\\\\n",
    "Q_{\\pi^{*}}(S_2, A_2) &= 1 + \\gamma Q_{\\pi^{*}}(S_2, \\pi^{*}(S_2)) \\\\\n",
    "                    &= 1 + \\gamma Q_{\\pi^{*}}(S_2,A_1) \\\\\n",
    "                    &= 1 + \\gamma \\frac{3 + 2\\gamma}{1 - \\gamma^2} \\\\\n",
    "                    &= \\frac{1 + 3\\gamma + \\gamma^2}{1 - \\gamma^2}\n",
    "\\end{align}"
   ]
  },
  {
   "cell_type": "markdown",
   "metadata": {},
   "source": []
  }
 ],
 "metadata": {
  "kernelspec": {
   "display_name": "neurorl",
   "language": "python",
   "name": "python3"
  },
  "language_info": {
   "codemirror_mode": {
    "name": "ipython",
    "version": 3
   },
   "file_extension": ".py",
   "mimetype": "text/x-python",
   "name": "python",
   "nbconvert_exporter": "python",
   "pygments_lexer": "ipython3",
   "version": "3.12.3"
  }
 },
 "nbformat": 4,
 "nbformat_minor": 2
}
